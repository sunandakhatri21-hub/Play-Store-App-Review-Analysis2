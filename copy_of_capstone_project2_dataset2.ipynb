{
  "nbformat": 4,
  "nbformat_minor": 0,
  "metadata": {
    "colab": {
      "private_outputs": true,
      "provenance": [],
      "collapsed_sections": [
        "w6K7xa23Elo4",
        "gIfDvo9L0UH2"
      ],
      "include_colab_link": true
    },
    "kernelspec": {
      "name": "python3",
      "display_name": "Python 3"
    },
    "language_info": {
      "name": "python"
    }
  },
  "cells": [
    {
      "cell_type": "markdown",
      "metadata": {
        "id": "view-in-github",
        "colab_type": "text"
      },
      "source": [
        "<a href=\"https://colab.research.google.com/github/sunandakhatri21-hub/Play-Store-App-Review-Analysis2/blob/main/copy_of_capstone_project2_dataset2.ipynb\" target=\"_parent\"><img src=\"https://colab.research.google.com/assets/colab-badge.svg\" alt=\"Open In Colab\"/></a>"
      ]
    },
    {
      "cell_type": "markdown",
      "source": [
        "# **Project Name**    -\n",
        "\n"
      ],
      "metadata": {
        "id": "vncDsAP0Gaoa"
      }
    },
    {
      "cell_type": "markdown",
      "source": [
        "##### **Project Type**    - EDA\n",
        "##### **Contribution**    - Individual\n"
      ],
      "metadata": {
        "id": "beRrZCGUAJYm"
      }
    },
    {
      "cell_type": "markdown",
      "source": [
        "# **Project Summary -**"
      ],
      "metadata": {
        "id": "FJNUwmbgGyua"
      }
    },
    {
      "cell_type": "markdown",
      "source": [
        "**Objective**\n",
        "\n",
        "The aim of this project is to analyze user reviews from the Google Play Store to understand customer sentiment and identify key factors influencing app ratings and popularity. This can help app developers improve user satisfaction, address concerns promptly, and enhance overall app performance.\n",
        "\n",
        "**Dataset Overview**\n",
        "\n",
        "The dataset contains the following key variables:\n",
        "\n",
        "- App – Name of the application reviewed.\n",
        "\n",
        "- Translated_Review – User review text translated into English.\n",
        "\n",
        "- Sentiment – Categorical label of review sentiment (Positive, Negative, Neutral).\n",
        "\n",
        "- Sentiment_Polarity – Numerical score from -1 (most negative) to 1 (most positive).\n",
        "\n",
        "- Sentiment_Subjectivity – Numerical score from 0 (objective/factual) to 1 (subjective/opinionated).\n",
        "\n",
        "**Methodology**\n",
        "\n",
        "Data Cleaning\n",
        "\n",
        "- Removed missing or duplicate reviews.\n",
        "\n",
        "- Standardized text data for analysis.\n",
        "\n",
        "Exploratory Data Analysis (EDA)\n",
        "\n",
        "- Count of reviews by sentiment category.\n",
        "\n",
        "- Distribution of polarity and subjectivity scores.\n",
        "\n",
        "- Most frequently reviewed apps and their sentiment patterns.\n",
        "\n",
        "Visualization\n",
        "\n",
        "- Bar charts for sentiment distribution.\n",
        "\n",
        "- Box/violin plots to compare sentiment polarity across apps.\n",
        "\n",
        "- Scatter plot for subjectivity vs polarity to spot sentiment trends.\n",
        "\n",
        "Insights Extraction\n",
        "\n",
        "- Identified apps with the highest and lowest average sentiment polarity.\n",
        "\n",
        "- Observed relationship between subjectivity and polarity in reviews.\n",
        "\n",
        "- Highlighted patterns in neutral vs extreme opinions.\n",
        "\n",
        "**Key Findings**\n",
        "\n",
        "- Positive reviews dominate in most popular apps, but certain apps have higher negative sentiment percentages indicating quality or usability issues.\n",
        "\n",
        "- High subjectivity scores often correlate with both very positive and very negative polarities, suggesting emotional or opinion-heavy feedback.\n",
        "\n",
        "- Neutral reviews often have mid-range polarity values but low engagement in app ratings.\n",
        "\n",
        "**Business Implications**\n",
        "\n",
        "- For Developers: Focus on negative sentiment analysis to identify and fix common user complaints.\n",
        "\n",
        "- For Marketing Teams: Highlight positive sentiment trends in promotional content.\n",
        "\n",
        "- For Product Strategy: Use polarity-subjectivity patterns to distinguish between genuine feature requests (objective) and emotional feedback (subjective).\n",
        "\n",
        "**Conclusion**\n",
        "\n",
        "The sentiment analysis of Google Play Store reviews offers valuable insights into user perception and satisfaction. By continuously monitoring polarity and subjectivity metrics, developers and businesses can enhance app quality, improve user retention, and maintain a competitive advantage.\n",
        "\n",
        "\n",
        "\n",
        "\n"
      ],
      "metadata": {
        "id": "F6v_1wHtG2nS"
      }
    },
    {
      "cell_type": "markdown",
      "source": [
        "# **GitHub Link -**"
      ],
      "metadata": {
        "id": "w6K7xa23Elo4"
      }
    },
    {
      "cell_type": "markdown",
      "source": [
        "Provide your GitHub Link here."
      ],
      "metadata": {
        "id": "h1o69JH3Eqqn"
      }
    },
    {
      "cell_type": "markdown",
      "source": [
        "# **Problem Statement**\n"
      ],
      "metadata": {
        "id": "yQaldy8SH6Dl"
      }
    },
    {
      "cell_type": "markdown",
      "source": [
        "For your Google Play Store sentiment analysis project, a problem statement should clearly define:\n",
        "\n",
        "- What is the challenge or issue?\n",
        "\n",
        "- Why does it matter?\n",
        "\n",
        "- What is the scope of your analysis?\n",
        "\n",
        "Here’s a polished problem statement you can use:\n",
        "\n",
        "**Problem Statemen**\n",
        "\n",
        "The Google Play Store hosts millions of mobile applications, and user reviews play a critical role in shaping an app’s reputation, influencing downloads, and guiding development priorities. However, with the large volume of reviews generated daily, it becomes challenging for developers and businesses to manually analyze user feedback to extract meaningful insights.\n",
        "\n",
        "Without an automated sentiment analysis approach, valuable information about user satisfaction, feature requests, and pain points may go unnoticed. This can lead to missed opportunities for improvement, poor customer engagement, and decreased app ratings.\n",
        "\n",
        "This project aims to analyze translated user reviews from the Google Play Store dataset to determine sentiment (positive, negative, neutral), measure sentiment polarity and subjectivity, and identify patterns that can help developers and stakeholders make data-driven decisions for enhancing app quality and user experience."
      ],
      "metadata": {
        "id": "DpeJGUA3kjGy"
      }
    },
    {
      "cell_type": "markdown",
      "source": [
        "#### **Define Your Business Objective?**"
      ],
      "metadata": {
        "id": "PH-0ReGfmX4f"
      }
    },
    {
      "cell_type": "markdown",
      "source": [
        "**Business Objectives**\n",
        "1. Understand User Sentiment\n",
        "\n",
        "  - Analyze customer reviews to determine whether user feedback is predominantly positive, negative, or neutral.\n",
        "\n",
        "2. Identify Improvement Areas\n",
        "\n",
        "   - Pinpoint recurring complaints or negative feedback to guide app enhancement and bug-fixing priorities.\n",
        "\n",
        "3. Enhance User Experience\n",
        "\n",
        "   - Use sentiment polarity and subjectivity metrics to better understand user emotions and expectations, leading to improved app features and usability.\n",
        "\n",
        "4. Support Marketing Strategy\n",
        "\n",
        "  - Highlight positive sentiment trends for promotional campaigns and brand positioning.\n",
        "\n",
        "5. Data-Driven Decision Making\n",
        "\n",
        "  - Provide actionable insights that help developers, product managers, and business stakeholders make informed choices to improve app performance and retention rates.\n",
        "\n",
        "6. Monitor App Reputation\n",
        "\n",
        "  - Track changes in sentiment over time to assess the impact of updates, new features, or marketing campaigns."
      ],
      "metadata": {
        "id": "PhDvGCAqmjP1"
      }
    },
    {
      "cell_type": "markdown",
      "source": [
        "# **General Guidelines** : -  "
      ],
      "metadata": {
        "id": "mDgbUHAGgjLW"
      }
    },
    {
      "cell_type": "markdown",
      "source": [
        "1.   Well-structured, formatted, and commented code is required.\n",
        "2.   Exception Handling, Production Grade Code & Deployment Ready Code will be a plus. Those students will be awarded some additional credits.\n",
        "     \n",
        "     The additional credits will have advantages over other students during Star Student selection.\n",
        "       \n",
        "             [ Note: - Deployment Ready Code is defined as, the whole .ipynb notebook should be executable in one go\n",
        "                       without a single error logged. ]\n",
        "\n",
        "3.   Each and every logic should have proper comments.\n",
        "4. You may add as many number of charts you want. Make Sure for each and every chart the following format should be answered.\n",
        "        \n",
        "\n",
        "```\n",
        "# Chart visualization code\n",
        "```\n",
        "            \n",
        "\n",
        "*   Why did you pick the specific chart?\n",
        "*   What is/are the insight(s) found from the chart?\n",
        "* Will the gained insights help creating a positive business impact?\n",
        "Are there any insights that lead to negative growth? Justify with specific reason.\n",
        "\n",
        "5. You have to create at least 20 logical & meaningful charts having important insights.\n",
        "\n",
        "\n",
        "[ Hints : - Do the Vizualization in  a structured way while following \"UBM\" Rule.\n",
        "\n",
        "U - Univariate Analysis,\n",
        "\n",
        "B - Bivariate Analysis (Numerical - Categorical, Numerical - Numerical, Categorical - Categorical)\n",
        "\n",
        "M - Multivariate Analysis\n",
        " ]\n",
        "\n",
        "\n",
        "\n"
      ],
      "metadata": {
        "id": "ZrxVaUj-hHfC"
      }
    },
    {
      "cell_type": "markdown",
      "source": [
        "# ***Let's Begin !***"
      ],
      "metadata": {
        "id": "O_i_v8NEhb9l"
      }
    },
    {
      "cell_type": "markdown",
      "source": [
        "## ***1. Know Your Data***"
      ],
      "metadata": {
        "id": "HhfV-JJviCcP"
      }
    },
    {
      "cell_type": "markdown",
      "source": [
        "### Import Libraries"
      ],
      "metadata": {
        "id": "Y3lxredqlCYt"
      }
    },
    {
      "cell_type": "code",
      "source": [
        "# Import Libraries\n",
        "import pandas as pd\n",
        "import numpy as np\n",
        "import matplotlib.pyplot as plt\n",
        "import seaborn as sns\n",
        "import warnings\n",
        "warnings.filterwarnings('ignore')\n"
      ],
      "metadata": {
        "id": "M8Vqi-pPk-HR"
      },
      "execution_count": null,
      "outputs": []
    },
    {
      "cell_type": "markdown",
      "source": [
        "### Dataset Loading"
      ],
      "metadata": {
        "id": "3RnN4peoiCZX"
      }
    },
    {
      "cell_type": "code",
      "source": [
        "# Load Dataset\n",
        "data = pd.read_csv(\"/content/User Reviews (2).csv\")"
      ],
      "metadata": {
        "id": "4CkvbW_SlZ_R"
      },
      "execution_count": null,
      "outputs": []
    },
    {
      "cell_type": "markdown",
      "source": [
        "### Dataset First View"
      ],
      "metadata": {
        "id": "x71ZqKXriCWQ"
      }
    },
    {
      "cell_type": "code",
      "source": [
        "# Dataset First Look\n",
        "data.head()"
      ],
      "metadata": {
        "id": "LWNFOSvLl09H"
      },
      "execution_count": null,
      "outputs": []
    },
    {
      "cell_type": "markdown",
      "source": [
        "### Dataset Rows & Columns count"
      ],
      "metadata": {
        "id": "7hBIi_osiCS2"
      }
    },
    {
      "cell_type": "code",
      "source": [
        "# Dataset Rows & Columns count\n",
        "data.shape"
      ],
      "metadata": {
        "id": "Kllu7SJgmLij"
      },
      "execution_count": null,
      "outputs": []
    },
    {
      "cell_type": "markdown",
      "source": [
        "### Dataset Information"
      ],
      "metadata": {
        "id": "JlHwYmJAmNHm"
      }
    },
    {
      "cell_type": "code",
      "source": [
        "# Dataset Info\n",
        "data.info()"
      ],
      "metadata": {
        "id": "e9hRXRi6meOf"
      },
      "execution_count": null,
      "outputs": []
    },
    {
      "cell_type": "markdown",
      "source": [
        "#### Duplicate Values"
      ],
      "metadata": {
        "id": "35m5QtbWiB9F"
      }
    },
    {
      "cell_type": "code",
      "source": [
        "# Dataset Duplicate Value Count\n",
        "data.duplicated().sum()\n"
      ],
      "metadata": {
        "id": "1sLdpKYkmox0"
      },
      "execution_count": null,
      "outputs": []
    },
    {
      "cell_type": "markdown",
      "source": [
        "#### Missing Values/Null Values"
      ],
      "metadata": {
        "id": "PoPl-ycgm1ru"
      }
    },
    {
      "cell_type": "code",
      "source": [
        "# Missing Values/Null Values Count\n",
        "data.isnull().sum()"
      ],
      "metadata": {
        "id": "GgHWkxvamxVg"
      },
      "execution_count": null,
      "outputs": []
    },
    {
      "cell_type": "code",
      "source": [
        "# Visualizing the missing values\n",
        "data.isnull().sum().plot(kind = 'bar', figsize= (10,5))\n",
        "plt.title(\"Missing Value\")\n",
        "plt.ylabel(\"count of missing values\")\n",
        "plt.show()"
      ],
      "metadata": {
        "id": "3q5wnI3om9sJ"
      },
      "execution_count": null,
      "outputs": []
    },
    {
      "cell_type": "markdown",
      "source": [
        "### What did you know about your dataset?"
      ],
      "metadata": {
        "id": "H0kj-8xxnORC"
      }
    },
    {
      "cell_type": "markdown",
      "source": [
        "Understanding the Google Play Store Review Dataset\n",
        "This dataset contains 64,295 user reviews for various apps listed on the Google Play Store. Each review has been translated to English and analyzed for its sentiment and tone. The dataset includes 5 columns:\n",
        "\n",
        "🧾 Column-wise Description:\n",
        "\n",
        "  -App:\n",
        "  The name of the app being reviewed. This helps identify which app the review is about.\n",
        "\n",
        "  -Translated_Review:\n",
        "  The actual user review, translated into English. This provides qualitative feedback from users.\n",
        "\n",
        "  -Sentiment:\n",
        "   The general sentiment of the review — usually Positive, Negative, or Neutral — indicating how the user feels about the app.\n",
        "\n",
        "  -Sentiment_Polarity:\n",
        "    A numerical score between -1 and 1, where:\n",
        "\n",
        "    -1 = strongly negative\n",
        "\n",
        "    0 = neutral\n",
        "\n",
        "    1 = strongly positive\n",
        "This gives more granularity to the \"Sentiment\" column.\n",
        "\n",
        "- Sentiment_Subjectivity:\n",
        "   A score between 0 and 1 showing how subjective the review is.\n",
        "\n",
        "0 = very objective (factual)\n",
        "\n",
        "1 = very subjective (opinion-based)"
      ],
      "metadata": {
        "id": "gfoNAAC-nUe_"
      }
    },
    {
      "cell_type": "markdown",
      "source": [
        "## ***2. Understanding Your Variables***"
      ],
      "metadata": {
        "id": "nA9Y7ga8ng1Z"
      }
    },
    {
      "cell_type": "code",
      "source": [
        "# Dataset Columns\n",
        "data.columns"
      ],
      "metadata": {
        "id": "j7xfkqrt5Ag5"
      },
      "execution_count": null,
      "outputs": []
    },
    {
      "cell_type": "code",
      "source": [
        "# Dataset Describe\n",
        "data.describe(include = 'all')"
      ],
      "metadata": {
        "id": "DnOaZdaE5Q5t"
      },
      "execution_count": null,
      "outputs": []
    },
    {
      "cell_type": "markdown",
      "source": [
        "### Variables Description"
      ],
      "metadata": {
        "id": "PBTbrJXOngz2"
      }
    },
    {
      "cell_type": "markdown",
      "source": [
        "- App – Name of the application reviewed.\n",
        "\n",
        "- Translated_Review – User review text translated into English.\n",
        "\n",
        "- Sentiment – Overall sentiment of the review (Positive, Negative, Neutral).\n",
        "\n",
        "- Sentiment_Polarity – Numerical score indicating sentiment strength (-1 to 1).\n",
        "\n",
        "- Sentiment_Subjectivity – Numerical score indicating subjectivity of the review (0 to 1)."
      ],
      "metadata": {
        "id": "aJV4KIxSnxay"
      }
    },
    {
      "cell_type": "markdown",
      "source": [
        "### Check Unique Values for each variable."
      ],
      "metadata": {
        "id": "u3PMJOP6ngxN"
      }
    },
    {
      "cell_type": "code",
      "source": [
        "# Check Unique Values for each variable.\n",
        "data.nunique()"
      ],
      "metadata": {
        "id": "zms12Yq5n-jE"
      },
      "execution_count": null,
      "outputs": []
    },
    {
      "cell_type": "markdown",
      "source": [
        "## 3. ***Data Wrangling***"
      ],
      "metadata": {
        "id": "dauF4eBmngu3"
      }
    },
    {
      "cell_type": "markdown",
      "source": [
        "### Data Wrangling Code"
      ],
      "metadata": {
        "id": "bKJF3rekwFvQ"
      }
    },
    {
      "cell_type": "code",
      "source": [
        "# Write your code to make your dataset analysis ready.\n",
        "# step 1: Drop rows where Translated_Review and Sentiment are missing.\n",
        "data.dropna(subset = ['Translated_Review', 'Sentiment'], inplace = True)"
      ],
      "metadata": {
        "id": "wk-9a2fpoLcV"
      },
      "execution_count": null,
      "outputs": []
    },
    {
      "cell_type": "code",
      "source": [
        "data.head()"
      ],
      "metadata": {
        "id": "23V5wYgdBIfO"
      },
      "execution_count": null,
      "outputs": []
    },
    {
      "cell_type": "code",
      "source": [
        "# step 2: fill the missing value in sentiment_polarity and sentiment_subjectivity, with mean value.\n",
        "data['Sentiment_Polarity'].fillna(data['Sentiment_Polarity'].mean(), inplace = True)\n",
        "data['Sentiment_Subjectivity'].fillna(data['Sentiment_Subjectivity'].mean(), inplace = True)"
      ],
      "metadata": {
        "id": "y53zBwwx7Acl"
      },
      "execution_count": null,
      "outputs": []
    },
    {
      "cell_type": "code",
      "source": [
        "data.head(3)"
      ],
      "metadata": {
        "id": "f4e_ETmLGqhK"
      },
      "execution_count": null,
      "outputs": []
    },
    {
      "cell_type": "code",
      "source": [
        "# step 3 : remove spaces or convert into lower case\n",
        "data['App'] = data['App'].str.strip().str.lower()\n",
        "data['Translated_Review'] = data['Translated_Review'].str.strip().str.lower()\n",
        "data['Sentiment'] = data['Sentiment'].str.strip().str.lower()\n"
      ],
      "metadata": {
        "id": "nqNU44btElHR"
      },
      "execution_count": null,
      "outputs": []
    },
    {
      "cell_type": "code",
      "source": [
        "# step 4 : checking the outliers\n",
        "# for this plotting a box plot\n",
        "data.boxplot(column= 'Sentiment_Polarity')\n",
        "plt.title('Sentiment_Polarity')\n",
        "plt.show()"
      ],
      "metadata": {
        "id": "anZjX8f9W163"
      },
      "execution_count": null,
      "outputs": []
    },
    {
      "cell_type": "code",
      "source": [
        "data.boxplot(column= 'Sentiment_Subjectivity')\n",
        "plt.title('Sentiment_Subjectivity')\n",
        "plt.show()"
      ],
      "metadata": {
        "id": "BkJdER_8YhR4"
      },
      "execution_count": null,
      "outputs": []
    },
    {
      "cell_type": "code",
      "source": [
        "# step 5 : Filter outliers\n",
        "# Check for any impossible values\n",
        "\n",
        "# Calculate Q1 and Q3\n",
        "Q1 = data['Sentiment_Polarity'].quantile(0.25)\n",
        "Q3 = data['Sentiment_Polarity'].quantile(0.75)\n",
        "IQR = Q3-Q1\n",
        "\n",
        "# Define outliers bounds\n",
        "Lower_wisker = Q1 - 1.5*IQR\n",
        "Upper_wisker = Q3 + 1.5*IQR\n",
        "\n",
        "# Filter out the outliers\n",
        "data_no_outliers = data[(data['Sentiment_Polarity'] >= Lower_wisker) & (data['Sentiment_Polarity'] <= Upper_wisker)]\n",
        "\n",
        "# print how many rows were removed\n",
        "\n",
        "print(\"Original rows: \", len(data))\n",
        "print(\"Rows after removing outliers: \", len(data_no_outliers))\n",
        "print(\"Rows removed: \", len(data) - len(data_no_outliers))\n"
      ],
      "metadata": {
        "id": "R5tY6Yy-I5yA"
      },
      "execution_count": null,
      "outputs": []
    },
    {
      "cell_type": "markdown",
      "source": [
        "### What all manipulations have you done and insights you found?"
      ],
      "metadata": {
        "id": "MSa1f5Uengrz"
      }
    },
    {
      "cell_type": "markdown",
      "source": [
        "Data Wrangling:\n",
        "\n",
        "We performed data wrangling to prepare the dataset for analysis. This included handling missing values in Translated_Review and Sentiment, filling numerical nulls with mean for polarity and subjectivity, removing duplicates, standardizing text, and filtering outliers. After cleaning, the dataset was saved for further visualization and sentiment analysis.\n"
      ],
      "metadata": {
        "id": "LbyXE7I1olp8"
      }
    },
    {
      "cell_type": "markdown",
      "source": [
        "## ***4. Data Vizualization, Storytelling & Experimenting with charts : Understand the relationships between variables***"
      ],
      "metadata": {
        "id": "GF8Ens_Soomf"
      }
    },
    {
      "cell_type": "markdown",
      "source": [
        "#### Chart - 1   Countplot – Frequency of Sentiments (univerient)"
      ],
      "metadata": {
        "id": "0wOQAZs5pc--"
      }
    },
    {
      "cell_type": "code",
      "source": [
        "# Chart - 1 visualization\n",
        "sns.countplot(x = 'Sentiment', data = data, palette = 'Set2')\n",
        "plt.title('Frequency of sentiments')\n",
        "plt.xlabel('Sentiments')\n",
        "plt.ylabel('Count')\n",
        "plt.show()"
      ],
      "metadata": {
        "id": "7v_ESjsspbW7"
      },
      "execution_count": null,
      "outputs": []
    },
    {
      "cell_type": "markdown",
      "source": [
        "##### 1. Why did you pick the specific chart?"
      ],
      "metadata": {
        "id": "K5QZ13OEpz2H"
      }
    },
    {
      "cell_type": "markdown",
      "source": [
        "We chose a countplot because:\n",
        "\n",
        "- It is ideal for visualizing categorical data, like Sentiment (Positive, Negative, Neutral).\n",
        "\n",
        "- It clearly shows the frequency (number of reviews) for each sentiment type.\n",
        "\n",
        "- It's simple, yet effective for spotting patterns in sentiment distribution across customer reviews.\n",
        "\n",
        "This chart helps answer:\n",
        "\n",
        "   “What do users feel most often about the apps?”"
      ],
      "metadata": {
        "id": "XESiWehPqBRc"
      }
    },
    {
      "cell_type": "markdown",
      "source": [
        "##### 2. What is/are the insight(s) found from the chart?"
      ],
      "metadata": {
        "id": "lQ7QKXXCp7Bj"
      }
    },
    {
      "cell_type": "markdown",
      "source": [
        "(Assuming the usual pattern in datasets like this — you can adjust based on your chart)\n",
        "\n",
        "✅ Positive sentiment is the most frequent — indicating overall user satisfaction.\n",
        "\n",
        "⚠️ Negative sentiment still has a significant presence — suggesting pain points in the user experience.\n",
        "\n",
        "🟡 Neutral sentiment is the smallest group — most users lean toward a clear opinion.\n",
        "\n",
        "So, we see a dominant positive experience, but also noticeable dissatisfaction from a portion of users."
      ],
      "metadata": {
        "id": "C_j1G7yiqdRP"
      }
    },
    {
      "cell_type": "markdown",
      "source": [
        "##### 3. Will the gained insights help creating a positive business impact?\n",
        "Are there any insights that lead to negative growth? Justify with specific reason."
      ],
      "metadata": {
        "id": "448CDAPjqfQr"
      }
    },
    {
      "cell_type": "markdown",
      "source": [
        "Yes, absolutely. Here's how:\n",
        "\n",
        "- Apps with high positive sentiment can be promoted more confidently in marketing.\n",
        "\n",
        "- Apps or reviews with negative sentiment can be used to identify and fix product issues, improve UI/UX, or enhance customer support.\n",
        "\n",
        "- Helps prioritize product updates based on what’s frustrating users.\n",
        "\n",
        "Example: If many negative reviews mention crashes or bugs, fixing them directly improves user satisfaction and retention.\n",
        "\n",
        "Are there any insights that lead to negative growth? Justify with specific reasons.\n",
        "Yes — if negative sentiment is high or rising, it could indicate risk of negative growth, such as:\n",
        "\n",
        "❌ Churn: Unhappy users are more likely to uninstall or stop using the app.\n",
        "\n",
        "💬 Bad reputation: Poor sentiment spreads through reviews and reduces new user installs.\n",
        "\n",
        "📉 Lower ratings: Negative reviews lower overall app store ratings, affecting visibility and trust.\n",
        "\n",
        "Justification: If the company doesn’t act on user feedback reflected in negative sentiment, it can lead to bad reviews, low ratings, poor user experience, and revenue loss."
      ],
      "metadata": {
        "id": "3cspy4FjqxJW"
      }
    },
    {
      "cell_type": "markdown",
      "source": [
        "#### Chart - 2  barchart to finding top 10 apps by No. of reviews  (Univerient)"
      ],
      "metadata": {
        "id": "KSlN3yHqYklG"
      }
    },
    {
      "cell_type": "code",
      "source": [
        "# Chart - 2 visualization code\n",
        "top_apps = data['App'].value_counts().head(10)\n",
        "top_apps.plot(kind='bar', figsize=(10,6), color= 'blue')\n",
        "plt.title('Top 10 Apps by Number of Reviews')\n",
        "plt.xlabel('App')\n",
        "plt.ylabel('Number of Reviews')"
      ],
      "metadata": {
        "id": "R4YgtaqtYklH"
      },
      "execution_count": null,
      "outputs": []
    },
    {
      "cell_type": "markdown",
      "source": [
        "##### 1. Why did you pick the specific chart?"
      ],
      "metadata": {
        "id": "t6dVpIINYklI"
      }
    },
    {
      "cell_type": "markdown",
      "source": [
        "We used a bar chart because:\n",
        "\n",
        "- It's ideal for comparing the number of reviews across different app names.\n",
        "\n",
        "- It clearly shows which apps are getting the most user engagement via reviews.\n",
        "\n",
        "- It’s simple and direct — great for identifying top performers at a glance.\n",
        "\n",
        "This helps answer:\n",
        "\n",
        "   “Which apps are getting the most attention from users?”"
      ],
      "metadata": {
        "id": "5aaW0BYyYklI"
      }
    },
    {
      "cell_type": "markdown",
      "source": [
        "##### 2. What is/are the insight(s) found from the chart?"
      ],
      "metadata": {
        "id": "ijmpgYnKYklI"
      }
    },
    {
      "cell_type": "markdown",
      "source": [
        "(Assuming what’s typically seen — adjust based on your actual chart)\n",
        "\n",
        "- A small number of apps receive significantly more reviews than the rest.\n",
        "\n",
        "- These top apps are likely more popular, widely used, or have more active user bases.\n",
        "\n",
        "- Review count may reflect user engagement, both positive and negative.\n",
        "\n",
        "For example, if “App A” has 5x more reviews than others, it could be a flagship app or experiencing rapid growth."
      ],
      "metadata": {
        "id": "PSx9atu2YklI"
      }
    },
    {
      "cell_type": "markdown",
      "source": [
        "##### 3. Will the gained insights help creating a positive business impact?\n",
        "Are there any insights that lead to negative growth? Justify with specific reason."
      ],
      "metadata": {
        "id": "-JiQyfWJYklI"
      }
    },
    {
      "cell_type": "markdown",
      "source": [
        "Yes. Here’s how:\n",
        "\n",
        "📈 You can prioritize popular apps for investment, promotion, or premium features.\n",
        "\n",
        "🔍 Analyze why top apps are successful (good UX? marketing?) and replicate that across other apps.\n",
        "\n",
        "📢 Apps with high visibility (lots of reviews) can be promoted more — they already have strong user traction.\n",
        "\n",
        "Strategic Action: Focus retention campaigns or ad spend on the top-performing apps.\n",
        "\n",
        "🚨 Are there any insights that lead to negative growth? Justify with specific reason.\n",
        "Potentially, yes. Here's how:\n",
        "\n",
        "- If one of the top-reviewed apps has a large number of negative reviews, it could indicate a serious issue that users are loudly reporting.\n",
        "\n",
        "- If a business relies too heavily on just a few popular apps, it risks revenue concentration — other apps may be underperforming or neglected.\n",
        "\n",
        "- If the top apps receive reviews but no improvement in ratings or sentiment, the visibility might be driving dissatisfaction instead of growth.\n",
        "\n",
        "Justification: High review volume without user satisfaction (seen via sentiment) might lead to bad PR, lower retention, and long-term brand damage."
      ],
      "metadata": {
        "id": "BcBbebzrYklV"
      }
    },
    {
      "cell_type": "markdown",
      "source": [
        "#### Chart - 3  Histogram for Sentiment_polarity (Univerient)"
      ],
      "metadata": {
        "id": "EM7whBJCYoAo"
      }
    },
    {
      "cell_type": "code",
      "source": [
        "# Chart - 3 visualization code\n",
        "sns.histplot(data['Sentiment_Polarity'], bins = 10, color = 'green')\n",
        "plt.title('Distribution of sentiment polarity')\n",
        "plt.xlabel('Sentiment polarity')\n",
        "plt.ylabel('Frequency')\n",
        "plt.show()"
      ],
      "metadata": {
        "id": "t6GMdE67YoAp"
      },
      "execution_count": null,
      "outputs": []
    },
    {
      "cell_type": "markdown",
      "source": [
        "##### 1. Why did you pick the specific chart?"
      ],
      "metadata": {
        "id": "fge-S5ZAYoAp"
      }
    },
    {
      "cell_type": "markdown",
      "source": [
        "We used a histogram with KDE because:\n",
        "\n",
        "- It’s ideal for visualizing the distribution of a continuous numeric variable (Sentiment_Polarity).\n",
        "\n",
        "- It helps us understand how user opinions are spread — are they more positive, negative, or neutral?\n",
        "\n",
        "- The KDE curve shows the smoothed shape of the distribution — providing deeper insight than a basic histogram.\n",
        "\n",
        "This chart answers:\n",
        "\n",
        "“How is user sentiment polarity distributed across all reviews?"
      ],
      "metadata": {
        "id": "5dBItgRVYoAp"
      }
    },
    {
      "cell_type": "markdown",
      "source": [
        "##### 2. What is/are the insight(s) found from the chart?"
      ],
      "metadata": {
        "id": "85gYPyotYoAp"
      }
    },
    {
      "cell_type": "markdown",
      "source": [
        "(Interpret based on typical output — adjust as per your actual plot)\n",
        "\n",
        "- The polarity distribution is skewed toward positive values (more reviews around 0.1 to 1.0).\n",
        "\n",
        "- There are fewer strongly negative reviews (polarity closer to -1.0).\n",
        "\n",
        "- Many reviews are centered around neutral to mildly positive sentiment (close to 0.0 to 0.4).\n",
        "\n",
        "- The peak in the KDE line shows where most review sentiments lie (e.g., around 0.2 or 0.3).\n",
        "\n",
        "This means: users generally leave positive or slightly positive feedback on average."
      ],
      "metadata": {
        "id": "4jstXR6OYoAp"
      }
    },
    {
      "cell_type": "markdown",
      "source": [
        "##### 3. Will the gained insights help creating a positive business impact?\n",
        "Are there any insights that lead to negative growth? Justify with specific reason."
      ],
      "metadata": {
        "id": "RoGjAbkUYoAp"
      }
    },
    {
      "cell_type": "markdown",
      "source": [
        "Yes, significantly. Here’s how:\n",
        "\n",
        "- You learn that users are generally happy or satisfied, which is a positive brand indicator.\n",
        "\n",
        "- It helps in benchmarking user satisfaction over time — track if sentiment improves after new updates.\n",
        "\n",
        "- You can confidently promote your product with messaging like:\n",
        "\n",
        "“Most users feel positively about our app!”\n",
        "\n",
        "- Internally, you can use this distribution to train sentiment prediction models, validate review quality, or flag abnormal spikes in negativity.\n",
        "\n",
        "🚨 Are there any insights that lead to negative growth? Justify with specific reason.\n",
        "Yes — but conditionally:\n",
        "\n",
        "- If there’s a significant spike in negative polarity (e.g., -0.8 to -1.0), that’s a warning signal.\n",
        "\n",
        "- It indicates that some users are extremely dissatisfied, which can lead to:\n",
        "\n",
        "     - Uninstalls\n",
        "\n",
        "     - Bad word-of-mouth\n",
        "\n",
        "     - Decline in ratings\n",
        "\n",
        "Justification: If ignored, these users could impact your app’s overall reputation. It’s vital to analyze those negative reviews for recurring complaints."
      ],
      "metadata": {
        "id": "zfJ8IqMcYoAp"
      }
    },
    {
      "cell_type": "markdown",
      "source": [
        "#### Chart - 4 Box plot on sentiment subjectivity (univerient)"
      ],
      "metadata": {
        "id": "4Of9eVA-YrdM"
      }
    },
    {
      "cell_type": "code",
      "source": [
        "# Chart - 4 visualization code\n",
        "sns.boxplot(data['Sentiment_Subjectivity'], color = 'green')\n",
        "plt.title('Distribution of sentiment subjectivity')\n",
        "plt.xlabel('Sentiment subjectivity')\n",
        "plt.ylabel('Frequency')\n",
        "plt.show()"
      ],
      "metadata": {
        "id": "irlUoxc8YrdO"
      },
      "execution_count": null,
      "outputs": []
    },
    {
      "cell_type": "markdown",
      "source": [
        "##### 1. Why did you pick the specific chart?"
      ],
      "metadata": {
        "id": "iky9q4vBYrdO"
      }
    },
    {
      "cell_type": "markdown",
      "source": [
        "We used a box plot because:\n",
        "\n",
        "- It shows the spread and distribution of Sentiment_Subjectivity, a continuous numeric variable.\n",
        "\n",
        "- It highlights key statistics: minimum, 1st quartile, median, 3rd quartile, and maximum.\n",
        "\n",
        "- Most importantly, it clearly identifies outliers, which are values far from the rest of the data.\n",
        "\n",
        "This chart helps answer:\n",
        "“Are there reviews that are highly objective or extremely subjective compared to the norm?”"
      ],
      "metadata": {
        "id": "aJRCwT6DYrdO"
      }
    },
    {
      "cell_type": "markdown",
      "source": [
        "##### 2. What is/are the insight(s) found from the chart?"
      ],
      "metadata": {
        "id": "F6T5p64dYrdO"
      }
    },
    {
      "cell_type": "markdown",
      "source": [
        "(You can adjust based on your actual plot, but typically for Sentiment_Subjectivity):\n",
        "\n",
        "- The median (middle line in the box) may fall around 0.5, meaning many reviews are moderately subjective.\n",
        "\n",
        "- There's often a wide interquartile range (IQR) — reviewers express varied levels of opinion vs fact.\n",
        "\n",
        "- Any dots outside the whiskers are outliers, showing extremely subjective reviews (values close to 1).\n",
        "\n",
        "Interpretation: Most users give balanced opinions, but some reviews are very emotionally expressed (very subjective)."
      ],
      "metadata": {
        "id": "Xx8WAJvtYrdO"
      }
    },
    {
      "cell_type": "markdown",
      "source": [
        "##### 3. Will the gained insights help creating a positive business impact?\n",
        "Are there any insights that lead to negative growth? Justify with specific reason."
      ],
      "metadata": {
        "id": "y-Ehk30pYrdP"
      }
    },
    {
      "cell_type": "markdown",
      "source": [
        "Yes, here’s how:\n",
        "\n",
        "- Understanding subjectivity helps evaluate review quality — highly subjective reviews may be less informative or more emotional.\n",
        "\n",
        "- Platforms can flag overly subjective reviews for moderation, improving overall review reliability.\n",
        "\n",
        "- Insights on subjectivity could improve sentiment models, helping businesses respond to feedback better.\n",
        "\n",
        "- Business can focus on objective feedback for making product improvements.\n",
        "\n",
        "🚨 Are there any insights that lead to negative growth? Justify with specific reason.\n",
        "Yes — possible concern:\n",
        "\n",
        "- If the plot shows many reviews are extremely subjective (close to 1.0), it may mean:\n",
        "\n",
        "   - Users are leaving emotion-driven feedback, not factual or constructive.\n",
        "\n",
        "  - It may lead to bias in review analysis, affecting decision-making.\n",
        "\n",
        "Justification: Business actions based on emotionally charged reviews (without substance) may mislead teams, hurting product direction or user trust."
      ],
      "metadata": {
        "id": "jLNxxz7MYrdP"
      }
    },
    {
      "cell_type": "markdown",
      "source": [
        "#### Chart - 5 Histogram on Sentiment_subjectivity (univerient)"
      ],
      "metadata": {
        "id": "bamQiAODYuh1"
      }
    },
    {
      "cell_type": "code",
      "source": [
        "# Chart - 5 visualization code\n",
        "sns.histplot(data['Sentiment_Subjectivity'], bins = 10, color = 'orange')\n",
        "plt.title('Distribution of sentiment subjectivity')\n",
        "plt.xlabel('sentiment subjectivity')\n",
        "plt.ylabel('Frequency')\n",
        "plt.show()"
      ],
      "metadata": {
        "id": "TIJwrbroYuh3"
      },
      "execution_count": null,
      "outputs": []
    },
    {
      "cell_type": "markdown",
      "source": [
        "##### 1. Why did you pick the specific chart?"
      ],
      "metadata": {
        "id": "QHF8YVU7Yuh3"
      }
    },
    {
      "cell_type": "markdown",
      "source": [
        "This histogram with a KDE curve was chosen because:\n",
        "\n",
        "- It provides a clear view of how the Sentiment_Subjectivity values are distributed across all the reviews.\n",
        "\n",
        "- Since subjectivity is a continuous variable ranging from 0 to 1, a histogram is ideal for understanding the frequency and spread of these values.\n",
        "\n",
        "- The added KDE (Kernel Density Estimation) curve helps visualize the underlying distribution pattern more smoothly than just using bars.\n",
        "\n"
      ],
      "metadata": {
        "id": "dcxuIMRPYuh3"
      }
    },
    {
      "cell_type": "markdown",
      "source": [
        "##### 2. What is/are the insight(s) found from the chart?"
      ],
      "metadata": {
        "id": "GwzvFGzlYuh3"
      }
    },
    {
      "cell_type": "markdown",
      "source": [
        "- Most of the reviews have moderate to high subjectivity values (usually between 0.4 to 0.8).\n",
        "\n",
        "- There are fewer reviews with very low subjectivity (i.e., close to 0), meaning very few users write fully objective or fact-based reviews.\n",
        "\n",
        "- This implies that the majority of users share personal opinions, feelings, or experiences in their reviews rather than neutral descriptions."
      ],
      "metadata": {
        "id": "uyqkiB8YYuh3"
      }
    },
    {
      "cell_type": "markdown",
      "source": [
        "##### 3. Will the gained insights help creating a positive business impact?\n",
        "Are there any insights that lead to negative growth? Justify with specific reason."
      ],
      "metadata": {
        "id": "qYpmQ266Yuh3"
      }
    },
    {
      "cell_type": "markdown",
      "source": [
        "✅ Yes, the insights can help in several ways:\n",
        "\n",
        "- Understanding that reviews are mostly subjective helps the business recognize that customer perception and emotion strongly influence the app ratings and feedback.\n",
        "\n",
        "- This allows product teams and support teams to focus on emotional tone and user sentiment, improving the way they respond to feedback.\n",
        "\n",
        "- Marketing and UX teams can use this to adjust communication strategies—ensuring they address user feelings and expectations rather than just functional details.\n",
        "\n",
        "⚠️ Potentially Yes, there are some cautionary insights:\n",
        "\n",
        "- If users are highly subjective, it means their feedback is more emotion-driven than fact-driven, which can be risky.\n",
        "\n",
        "- A single negative experience (even minor) could lead to strongly negative reviews, impacting overall app rating.\n",
        "\n",
        "- New users might form opinions based on emotional bias in reviews, possibly reducing trust in the app.\n",
        "\n",
        "Justification:\n",
        "\n",
        "For example, if one user had a slow loading experience and subjectively feels the app is “useless,” that sentiment—although not fully factual—could influence hundreds of potential users reading the review."
      ],
      "metadata": {
        "id": "_WtzZ_hCYuh4"
      }
    },
    {
      "cell_type": "markdown",
      "source": [
        "#### Chart - 6 Violin plot: Polarity by Sentiment (Biverient)"
      ],
      "metadata": {
        "id": "OH-pJp9IphqM"
      }
    },
    {
      "cell_type": "code",
      "source": [
        "# Chart - 6 visualization code\n",
        "sns.violinplot(x = 'Sentiment', y = 'Sentiment_Polarity', palette = 'cool', data = data)\n",
        "plt.title('polarity by sentiment')\n",
        "plt.xlabel('sentiment')\n",
        "plt.ylabel('sentiment polarity')\n",
        "plt.show()"
      ],
      "metadata": {
        "id": "kuRf4wtuphqN"
      },
      "execution_count": null,
      "outputs": []
    },
    {
      "cell_type": "markdown",
      "source": [
        "##### 1. Why did you pick the specific chart?"
      ],
      "metadata": {
        "id": "bbFf2-_FphqN"
      }
    },
    {
      "cell_type": "markdown",
      "source": [
        "A violin plot is ideal when comparing the distribution of a numerical variable (Sentiment_Polarity) across different categories (Sentiment).\n",
        "\n",
        "- Unlike a boxplot, it also shows the density of values—how spread or concentrated they are.\n",
        "\n",
        "- Here, we want to understand how sentiment polarity behaves for Positive, Neutral, and Negative sentiments.\n",
        "\n",
        "So, the violin plot gives both:\n",
        "\n",
        "- Shape of the distribution (like a KDE plot),\n",
        "\n",
        "- Statistical summary (like a boxplot inside the violin)."
      ],
      "metadata": {
        "id": "loh7H2nzphqN"
      }
    },
    {
      "cell_type": "markdown",
      "source": [
        "##### 2. What is/are the insight(s) found from the chart?"
      ],
      "metadata": {
        "id": "_ouA3fa0phqN"
      }
    },
    {
      "cell_type": "markdown",
      "source": [
        "- Positive sentiment reviews have polarity values mostly concentrated between 0.1 to 0.6, with some even close to 1.0. This means they express a strong or moderate positive opinion.\n",
        "\n",
        "- Negative sentiment reviews have polarity values mostly between -1.0 to -0.1, indicating strong to mild negative tone.\n",
        "\n",
        "- Neutral sentiment reviews are flat at 0, indicating no polarity (as expected).\n",
        "\n",
        "- The width of each violin shows how common a certain polarity range is within each sentiment type.\n",
        "\n",
        "- Positive reviews have a wider and taller violin, suggesting a greater variety of positive opinions.\n",
        "\n",
        "- Negative reviews are also varied but slightly more concentrated around -0.4 to -0.1."
      ],
      "metadata": {
        "id": "VECbqPI7phqN"
      }
    },
    {
      "cell_type": "markdown",
      "source": [
        "##### 3. Will the gained insights help creating a positive business impact?\n",
        "Are there any insights that lead to negative growth? Justify with specific reason."
      ],
      "metadata": {
        "id": "Seke61FWphqN"
      }
    },
    {
      "cell_type": "markdown",
      "source": [
        "✅ Positive Business Impact:\n",
        "- This plot validates the sentiment classification — polarity values align correctly with their sentiment labels.\n",
        "\n",
        "- Product and customer teams can understand:\n",
        "\n",
        "   - What range of polarity corresponds to each sentiment label.\n",
        "\n",
        "   - If the NLP model or sentiment detection tool is working as expected.\n",
        "\n",
        "- It helps in targeted response strategies:\n",
        "\n",
        "   - Highly negative polarity (e.g., ≤ -0.6) → critical feedback → prioritize response.\n",
        "\n",
        "  - Slightly negative → mild dissatisfaction → can be converted into loyalty.\n",
        "\n",
        "  - Strong positive polarity → identify happy customers for testimonials or marketing.\n",
        "\n",
        "⚠️ Potential Negative Growth Insight:\n",
        "- The density of negative polarity around -0.2 to -0.5 shows many reviews are not very harsh, but still dissatisfied.\n",
        "\n",
        "- If not addressed, these moderately negative sentiments can pile up and affect overall ratings over time.\n",
        "\n",
        "- Neutral reviews are few and flat, possibly indicating that users rarely leave balanced or objective feedback — which means ratings might be highly emotional and need careful handling."
      ],
      "metadata": {
        "id": "DW4_bGpfphqN"
      }
    },
    {
      "cell_type": "markdown",
      "source": [
        "#### Chart - 7  Box Plot : Sentiment vs Subjectivity (Biverient)"
      ],
      "metadata": {
        "id": "PIIx-8_IphqN"
      }
    },
    {
      "cell_type": "code",
      "source": [
        "# Chart - 7 visualization code\n",
        "\n",
        "sns.scatterplot(x='Sentiment_Subjectivity', y='Sentiment_Polarity', hue='Sentiment', data=data, alpha=0.6)\n",
        "\n",
        "plt.title('Subjectivity VS Polarity')\n",
        "plt.xlabel('Subjectivity')\n",
        "plt.ylabel('Polarity')\n",
        "plt.grid(True)\n",
        "plt.show()\n",
        "\n"
      ],
      "metadata": {
        "id": "lqAIGUfyphqO"
      },
      "execution_count": null,
      "outputs": []
    },
    {
      "cell_type": "markdown",
      "source": [
        "##### 1. Why did you pick the specific chart?"
      ],
      "metadata": {
        "id": "t27r6nlMphqO"
      }
    },
    {
      "cell_type": "markdown",
      "source": [
        "A scatter plot is ideal for visualizing the relationship between two numerical variables:\n",
        "\n",
        "   - Sentiment_Subjectivity (X-axis)\n",
        "\n",
        "   - Sentiment_Polarity (Y-axis)\n",
        "\n",
        "- We also added color encoding (hue='Sentiment') to show the sentiment class (Positive, Neutral, Negative), making this a multivariate plot.\n",
        "\n",
        "This chart helps answer:\n",
        "➤ “Do subjective reviews tend to be more positive or negative?”\n",
        "➤ “Where do neutral reviews fall on the subjectivity-polarity scale?”\n",
        "\n"
      ],
      "metadata": {
        "id": "iv6ro40sphqO"
      }
    },
    {
      "cell_type": "markdown",
      "source": [
        "##### 2. What is/are the insight(s) found from the chart?"
      ],
      "metadata": {
        "id": "r2jJGEOYphqO"
      }
    },
    {
      "cell_type": "markdown",
      "source": [
        "Positive Reviews (Blue):\n",
        "\n",
        "- Concentrated in the upper half (polarity > 0).\n",
        "\n",
        "- Most are subjective (>0.4), and many reach strong positive polarity (~1.0).\n",
        "\n",
        "- Shows users expressing positive emotions in personal/opinionated ways.\n",
        "\n",
        "Negative Reviews (Green):\n",
        "\n",
        "- Spread in the lower half (polarity < 0).\n",
        "\n",
        "- Also highly subjective — clustered from 0.4 to 1.0.\n",
        "\n",
        "- Indicates users are emotionally expressive when frustrated or dissatisfied.\n",
        "\n",
        "Neutral Reviews (Orange):\n",
        "\n",
        "- Almost all points lie at polarity = 0 (Y=0 line), regardless of subjectivity.\n",
        "\n",
        "- Suggests neutral reviews have no emotional tone, even if subjective (e.g., \"App is okay\").\n",
        "\n",
        "There’s no strong linear correlation between subjectivity and polarity, but:\n",
        "\n",
        "- Strong polarity (±) is usually paired with high subjectivity.\n",
        "\n",
        "- Objective reviews are rare and mostly neutral."
      ],
      "metadata": {
        "id": "Po6ZPi4hphqO"
      }
    },
    {
      "cell_type": "markdown",
      "source": [
        "##### 3. Will the gained insights help creating a positive business impact?\n",
        "Are there any insights that lead to negative growth? Justify with specific reason."
      ],
      "metadata": {
        "id": "b0JNsNcRphqO"
      }
    },
    {
      "cell_type": "markdown",
      "source": [
        "💡 Positive Business Impact:\n",
        "- Helps identify high-emotion customers — both happy and unhappy:\n",
        "\n",
        "- Positive + high subjectivity → potential brand advocates or reviewers\n",
        "\n",
        "- Negative + high subjectivity → need for quick support or retention efforts\n",
        "\n",
        "This enables:\n",
        "\n",
        "- Prioritized response strategy\n",
        "\n",
        "- Better understanding of user tone vs. sentiment\n",
        "\n",
        "- More accurate sentiment-driven feedback analysis\n",
        "\n",
        "⚠️ Insights That Could Signal Negative Growth:\n",
        "Concentration of highly subjective, negative reviews:\n",
        "\n",
        "- These can amplify dissatisfaction and influence others’ perception.\n",
        "\n",
        "- Even small bugs or delays could cause overly harsh feedback.\n",
        "\n",
        "- If unaddressed, they could lead to loss of new users or bad app ratings.\n",
        "\n",
        "Justification:\n",
        "\n",
        "A subjective review like “Worst app ever! Never using it again!” with polarity near -1.0 will strongly impact new users' perception — even if the issue is fixable."
      ],
      "metadata": {
        "id": "xvSq8iUTphqO"
      }
    },
    {
      "cell_type": "markdown",
      "source": [
        "#### Chart - 8  Bar plot: Sentiment_Polarity VS App (Biverient)"
      ],
      "metadata": {
        "id": "BZR9WyysphqO"
      }
    },
    {
      "cell_type": "code",
      "source": [
        "top_apps = data['App'].value_counts().head(10).index\n",
        "data_top = data[data['App'].isin(top_apps)]\n",
        "\n",
        "# Group by app and calculate average polarity\n",
        "avg_polarity = data_top.groupby('App')['Sentiment_Polarity'].mean().reset_index()\n",
        "\n",
        "# Plot\n",
        "sns.barplot(x='App', y='Sentiment_Polarity', data=avg_polarity)\n",
        "plt.xticks(rotation=45)\n",
        "plt.title('Average Polarity for Top Apps')\n",
        "plt.xlabel('App')\n",
        "plt.ylabel('Average Polarity')\n",
        "plt.show()\n"
      ],
      "metadata": {
        "id": "TdPTWpAVphqO"
      },
      "execution_count": null,
      "outputs": []
    },
    {
      "cell_type": "markdown",
      "source": [
        "##### 1. Why did you pick the specific chart?"
      ],
      "metadata": {
        "id": "jj7wYXLtphqO"
      }
    },
    {
      "cell_type": "markdown",
      "source": [
        "The bar chart was chosen because:\n",
        "\n",
        "- It clearly compares numerical values (average sentiment polarity) across categorical variables (app names).\n",
        "\n",
        "- Bar charts are effective in showing differences in averages between groups.\n",
        "\n",
        "- This chart lets us quickly identify which apps have the most positive or neutral/negative feedback on average."
      ],
      "metadata": {
        "id": "Ob8u6rCTphqO"
      }
    },
    {
      "cell_type": "markdown",
      "source": [
        "##### 2. What is/are the insight(s) found from the chart?"
      ],
      "metadata": {
        "id": "eZrbJ2SmphqO"
      }
    },
    {
      "cell_type": "markdown",
      "source": [
        "Here are the insights from the chart:\n",
        "\n",
        "🔹 Positive Insights:\n",
        "“10 Best Foods for You” has the highest average polarity, meaning reviews are very positive.\n",
        "\n",
        "Apps like \"Calorie Counter - Macros\", \"Candy Crush Saga\", and \"Duolingo\" also show a generally positive reception.\n",
        "\n",
        "🔹 Neutral/Negative Insights:\n",
        "“8 Ball Pool” and “Angry Birds Classic” show very low or slightly negative polarity, indicating users gave neutral or mildly negative reviews.\n",
        "\n",
        "Apps like “Bowmasters” and “Garena Free Fire” have relatively low polarity, suggesting mixed or average feedback."
      ],
      "metadata": {
        "id": "mZtgC_hjphqO"
      }
    },
    {
      "cell_type": "markdown",
      "source": [
        "##### 3. Will the gained insights help creating a positive business impact?\n",
        "Are there any insights that lead to negative growth? Justify with specific reason."
      ],
      "metadata": {
        "id": "rFu4xreNphqO"
      }
    },
    {
      "cell_type": "markdown",
      "source": [
        "🔸 For Positive-Polarity Apps:\n",
        "- Capitalize on Strengths: Apps like \"10 Best Foods for You\" can use this insight to market their positive user experience, potentially increasing installs.\n",
        "\n",
        "- Identify Best Practices: Developers of other apps can study what these apps are doing right—UI, functionality, engagement—to replicate their success.\n",
        "\n",
        "🔸 For Low-Polarity Apps:\n",
        "- User Experience Improvements: Apps like “8 Ball Pool” or “Angry Birds Classic” can be analyzed to understand why sentiment is low—bugs, outdated design, ads, or user frustration.\n",
        "\n",
        "- Feature Updates: Developers may introduce improvements based on feedback, which could boost ratings and retention.\n",
        "\n",
        "**Are there any insights that lead to negative growth? Justify with specific reason.**\n",
        "\n",
        "Yes — the apps with lower or near-zero polarity (like “8 Ball Pool” or “Angry Birds Classic”) may face:\n",
        "\n",
        "🔻 Risks:\n",
        "- Loss of Active Users: Poor or neutral sentiment may indicate user dissatisfaction, which could lead to uninstalls or reduced engagement.\n",
        "\n",
        "- Negative Reviews Visibility: Bad reviews can hurt app store visibility, discouraging new users from downloading.\n",
        "\n",
        "- Revenue Decline: Less engagement can also reduce ad impressions or in-app purchases.\n",
        "\n",
        "✅ Justification:\n",
        "Apps with a Sentiment_Polarity near 0 or negative mean users are giving neutral or poor emotional feedback. This is a clear signal to re-evaluate the app experience.\n",
        "\n"
      ],
      "metadata": {
        "id": "ey_0qi68phqO"
      }
    },
    {
      "cell_type": "markdown",
      "source": [
        "#### Chart - 9  Pie Chart : On sentiment (Univerient)"
      ],
      "metadata": {
        "id": "YJ55k-q6phqO"
      }
    },
    {
      "cell_type": "code",
      "source": [
        "# Chart - 9 visualization code\n",
        "data['Sentiment'].value_counts().plot.pie(autopct='%1.1f%%', startangle=90, colors=['lightgreen', 'lightblue', 'lightcoral'])\n",
        "plt.title('Sentiment Proportion')\n",
        "plt.ylabel('')\n",
        "plt.show()\n"
      ],
      "metadata": {
        "id": "B2aS4O1ophqO"
      },
      "execution_count": null,
      "outputs": []
    },
    {
      "cell_type": "markdown",
      "source": [
        "##### 1. Why did you pick the specific chart?"
      ],
      "metadata": {
        "id": "gCFgpxoyphqP"
      }
    },
    {
      "cell_type": "markdown",
      "source": [
        "- The pie chart was chosen because it clearly shows the proportion of each sentiment type (positive, negative, neutral) in a visual and easy-to-interpret way.\n",
        "\n",
        "- It’s an effective choice when the goal is to compare parts to the whole.\n",
        "\n",
        "- The percentages make it simple to quickly see which sentiment dominates."
      ],
      "metadata": {
        "id": "TVxDimi2phqP"
      }
    },
    {
      "cell_type": "markdown",
      "source": [
        "##### 2. What is/are the insight(s) found from the chart?"
      ],
      "metadata": {
        "id": "OVtJsKN_phqQ"
      }
    },
    {
      "cell_type": "markdown",
      "source": [
        "Key Insights:\n",
        "- Positive sentiment dominates with 64.1% of reviews being positive.\n",
        "\n",
        "- Negative sentiment accounts for 22.1%, showing that while most feedback is good, there is still a significant amount of dissatisfaction.\n",
        "\n",
        "- Neutral sentiment makes up 13.8%, meaning a portion of users are indifferent or undecided."
      ],
      "metadata": {
        "id": "ngGi97qjphqQ"
      }
    },
    {
      "cell_type": "markdown",
      "source": [
        "##### 3. Will the gained insights help creating a positive business impact?\n",
        "Are there any insights that lead to negative growth? Justify with specific reason."
      ],
      "metadata": {
        "id": "lssrdh5qphqQ"
      }
    },
    {
      "cell_type": "markdown",
      "source": [
        "✅ Yes, definitely.\n",
        "\n",
        "- The high positive sentiment is a strong marketing point — companies can highlight this in promotions.\n",
        "\n",
        "- It indicates a generally good customer experience, which can attract new users and improve retention.\n",
        "\n",
        "- The presence of 22.1% negative feedback also provides a clear improvement opportunity — fixing common complaints can further boost the positive share.\n",
        "\n",
        "**Are there any insights that lead to negative growth? Justify with specific reason.**\n",
        "\n",
        "⚠ Yes.\n",
        "\n",
        "- The negative sentiment (22.1%) could hinder growth if not addressed.\n",
        "\n",
        "- In app stores, a high proportion of negative reviews may reduce ratings, which can lower visibility in search results and discourage downloads.\n",
        "\n",
        "- Neutral reviews (13.8%) also represent missed opportunities — converting them to positive through better features, usability, or customer support can help improve overall perception."
      ],
      "metadata": {
        "id": "tBpY5ekJphqQ"
      }
    },
    {
      "cell_type": "markdown",
      "source": [
        "#### Chart - 10 Bar plot : Top Reviewd Apps (Bivarient)"
      ],
      "metadata": {
        "id": "U2RJ9gkRphqQ"
      }
    },
    {
      "cell_type": "code",
      "source": [
        "top_reviewed = data['App'].value_counts().head(10)\n",
        "sns.barplot(x=top_reviewed.index, y=top_reviewed.values)\n",
        "plt.xticks(rotation=45)\n",
        "plt.title('Top 10 Most Reviewed Apps')\n",
        "plt.xlabel('App')\n",
        "plt.ylabel('Number of Reviews')\n",
        "plt.show()\n"
      ],
      "metadata": {
        "id": "GM7a4YP4phqQ"
      },
      "execution_count": null,
      "outputs": []
    },
    {
      "cell_type": "markdown",
      "source": [
        "##### 1. Why did you pick the specific chart?"
      ],
      "metadata": {
        "id": "1M8mcRywphqQ"
      }
    },
    {
      "cell_type": "markdown",
      "source": [
        "- A bar chart is ideal for comparing the number of reviews across different apps.\n",
        "\n",
        "- Since App is a categorical variable and review count is numerical, this format provides a clear, easy-to-read comparison.\n",
        "\n",
        "- It helps identify the most engaged or popular apps based on review volume.\n",
        "\n"
      ],
      "metadata": {
        "id": "8agQvks0phqQ"
      }
    },
    {
      "cell_type": "markdown",
      "source": [
        "##### 2. What is/are the insight(s) found from the chart?"
      ],
      "metadata": {
        "id": "tgIPom80phqQ"
      }
    },
    {
      "cell_type": "markdown",
      "source": [
        "🔹 Popularity Ranking by Review Volume:\n",
        "- “Bowmasters” stands out with the highest number of reviews, indicating high user engagement or install base.\n",
        "\n",
        "- “Helix Jump” and “Angry Birds Classic” follow closely behind—these are well-known games likely to attract many users.\n",
        "\n",
        "- Apps like “Calorie Counter - Macros” and “10 Best Foods for You” are among the lowest in the top 10—though still strong performers, they may cater to niche audiences.\n",
        "\n",
        "🔹 Gaming Apps Dominate:\n",
        "- A majority of apps in the top 10 are games (e.g., Bowmasters, Helix Jump, Angry Birds, Free Fire, 8 Ball Pool), highlighting that gaming apps tend to receive more user interaction and feedback.\n",
        "\n",
        "🔹 Health and Utility Apps Are Present:\n",
        "- Apps like “Calorie Counter - MyFitnessPal” and “Duolingo” also rank highly, showing that not just entertainment but functional apps with daily utility also generate user engagement."
      ],
      "metadata": {
        "id": "Qp13pnNzphqQ"
      }
    },
    {
      "cell_type": "markdown",
      "source": [
        "##### 3. Will the gained insights help creating a positive business impact?\n",
        "Are there any insights that lead to negative growth? Justify with specific reason."
      ],
      "metadata": {
        "id": "JMzcOPDDphqR"
      }
    },
    {
      "cell_type": "markdown",
      "source": [
        "🔸 Positive Opportunities:\n",
        "- High review count = high engagement. Apps with more reviews are likely reaching wider audiences. These insights can help:\n",
        "\n",
        "- Prioritize investment in these top apps for feature expansion, monetization strategies, or premium features.\n",
        "\n",
        "- Use their popularity to cross-promote other apps in the developer portfolio.\n",
        "\n",
        "- Benchmark successful apps to understand what drives user interaction (e.g., gamification, notifications, visual design).\n",
        "\n",
        "- Review mining for top apps can reveal user expectations and drive future design improvements.\n",
        "\n",
        "🔸 Improvement Potential:\n",
        "- Lower-end apps in the top 10, like “10 Best Foods for You”, may still show great sentiment but have fewer reviews. Encouraging users to review could help with visibility.\n",
        "\n",
        "- Negative feedback in high-volume apps (e.g., Bowmasters) could be amplified due to larger user base—requires continuous review monitoring.  \n",
        "\n",
        "**Yes, potential risks exist even among highly reviewed apps:**\n",
        "\n",
        "🔻 Risk Factors:\n",
        "- High number of reviews ≠ high satisfaction. If apps like “Bowmasters” or “Helix Jump” have high review volume but low sentiment polarity (check previous chart), it could signal widespread user frustration.\n",
        "\n",
        "- Visibility magnifies negativity. Apps with many users and reviews also have higher chances of receiving public criticism. If not addressed, these can harm brand reputation and reduce new installs.\n",
        "\n",
        "- Gaming apps churn faster—users might leave if updates aren’t frequent or monetization is too aggressive (e.g., too many ads or paywalls)."
      ],
      "metadata": {
        "id": "R4Ka1PC2phqR"
      }
    },
    {
      "cell_type": "markdown",
      "source": [
        " #### Chart - 11 Histogram : Sentiment_Polarity (Univerient)"
      ],
      "metadata": {
        "id": "x-EpHcCOp1ci"
      }
    },
    {
      "cell_type": "code",
      "source": [
        "sns.histplot(data['Sentiment_Polarity'], kde=True, bins=30, color='skyblue')\n",
        "plt.title('Distribution of Sentiment Polarity')\n",
        "plt.xlabel('Polarity')\n",
        "plt.ylabel('Frequency')\n",
        "plt.show()\n"
      ],
      "metadata": {
        "id": "mAQTIvtqp1cj"
      },
      "execution_count": null,
      "outputs": []
    },
    {
      "cell_type": "markdown",
      "source": [
        "##### 1. Why did you pick the specific chart?"
      ],
      "metadata": {
        "id": "X_VqEhTip1ck"
      }
    },
    {
      "cell_type": "markdown",
      "source": [
        "- The histogram with KDE plot is ideal for visualizing the distribution of a single continuous variable, in this case, Sentiment_Polarity.\n",
        "\n",
        "- This is a univariate plot, chosen to:\n",
        "\n",
        "    - Understand the spread and shape of polarity values across all reviews.\n",
        "\n",
        "    - Identify if reviews are mostly positive, negative, or neutral.\n",
        "\n",
        "    - Detect skewness, peaks, and frequency patterns in sentiment strength."
      ],
      "metadata": {
        "id": "-vsMzt_np1ck"
      }
    },
    {
      "cell_type": "markdown",
      "source": [
        "##### 2. What is/are the insight(s) found from the chart?"
      ],
      "metadata": {
        "id": "8zGJKyg5p1ck"
      }
    },
    {
      "cell_type": "markdown",
      "source": [
        "🔹 Centered Near Zero:\n",
        "\n",
        "- There’s a sharp peak around 0, which means many reviews have neutral sentiment polarity (neither strongly negative nor positive).\n",
        "\n",
        "- This could mean a lot of users gave short or vague reviews, or mixed feedback.\n",
        "\n",
        "🔹 Right Skewed Toward Positive:\n",
        "\n",
        "- The distribution is right-skewed: the frequency of positive sentiment values (0 to 1.0) is significantly higher than extreme negative values.\n",
        "\n",
        "- This suggests the dataset is generally tilted toward positive sentiment, supporting earlier pie chart findings (~64% positive).\n",
        "\n",
        "🔹 Fewer Strongly Negative Reviews:\n",
        "\n",
        "- There are fewer reviews with polarity near -1, indicating that very negative reviews are less common.\n",
        "\n",
        "- This might indicate users are either relatively satisfied or hesitant to leave very harsh feedback.\n",
        "\n"
      ],
      "metadata": {
        "id": "ZYdMsrqVp1ck"
      }
    },
    {
      "cell_type": "markdown",
      "source": [
        "##### 3. Will the gained insights help creating a positive business impact?\n",
        "Are there any insights that lead to negative growth? Justify with specific reason."
      ],
      "metadata": {
        "id": "PVzmfK_Ep1ck"
      }
    },
    {
      "cell_type": "markdown",
      "source": [
        "✅ Yes — here’s how:\n",
        "- Product confidence: A large number of reviews near or above 0 shows that most users had neutral to positive experiences, which reinforces user trust.\n",
        "\n",
        "- Data-driven marketing: This insight validates that the app experience is well-received — useful for app store promotion or user testimonials.\n",
        "\n",
        "- Target neutral users: The large spike at 0 suggests there’s a big group of “meh” users. These can be targeted with nudges (onboarding tips, reminders, loyalty offers) to shift them into the positive segment.\n",
        "\n",
        "Yes, potential risks include:\n",
        "\n",
        "🔻 High Neutrality:\n",
        "- A strong peak at polarity = 0 suggests many users are not emotionally engaged.\n",
        "\n",
        "This can indicate:\n",
        "\n",
        "- Reviews lacking enthusiasm\n",
        "\n",
        "- Users feeling indifferent\n",
        "\n",
        "- If not addressed, it could translate into low retention or passive churn, since emotionally neutral users are less likely to advocate or return.\n",
        "\n",
        "🔻 Missed feedback from negatives:\n",
        "\n",
        "- Though there are fewer strongly negative reviews, they still exist. If left unaddressed, these can affect app store ratings or user retention."
      ],
      "metadata": {
        "id": "druuKYZpp1ck"
      }
    },
    {
      "cell_type": "markdown",
      "source": [
        "#### Chart - 12  Count plot : Sentiment VS App (Biverient)"
      ],
      "metadata": {
        "id": "n3dbpmDWp1ck"
      }
    },
    {
      "cell_type": "code",
      "source": [
        "top_apps = data['App'].value_counts().head(5).index\n",
        "filtered = data[data['App'].isin(top_apps)]\n",
        "sentiment_counts = filtered.groupby(['App', 'Sentiment']).size().unstack()\n",
        "\n",
        "sentiment_counts.plot(kind='bar', stacked=False)\n",
        "plt.title('Sentiment Count per Top 5 Apps')\n",
        "plt.xlabel('App')\n",
        "plt.ylabel('Number of Reviews')\n",
        "plt.xticks(rotation=45)\n",
        "plt.legend(title='Sentiment')\n",
        "plt.show()\n",
        "\n",
        "\n"
      ],
      "metadata": {
        "id": "bwevp1tKp1ck"
      },
      "execution_count": null,
      "outputs": []
    },
    {
      "cell_type": "markdown",
      "source": [
        "##### 1. Why did you pick the specific chart?"
      ],
      "metadata": {
        "id": "ylSl6qgtp1ck"
      }
    },
    {
      "cell_type": "markdown",
      "source": [
        "We used a grouped bar chart because:\n",
        "\n",
        "- It allows clear comparison of multiple categories (positive, neutral, negative sentiments) across a group (top 5 apps).\n",
        "\n",
        "- It’s intuitive and effective for visualizing discrete categorical data side by side.\n",
        "\n",
        "- Grouped bars help highlight the variation in sentiment for each app, which is valuable for product or marketing decisions."
      ],
      "metadata": {
        "id": "m2xqNkiQp1ck"
      }
    },
    {
      "cell_type": "markdown",
      "source": [
        "##### 2. What is/are the insight(s) found from the chart?"
      ],
      "metadata": {
        "id": "ZWILFDl5p1ck"
      }
    },
    {
      "cell_type": "markdown",
      "source": [
        "Several actionable insights are derived:\n",
        "\n",
        "✅ Positive sentiment dominates for all top apps — a healthy sign of user satisfaction.\n",
        "\n",
        "✅ Helix Jump and Duolingo have the most positive reviews, indicating good user experience and satisfaction.\n",
        "\n",
        "⚠️ Angry Birds Classic has a high negative sentiment count — which is a red flag compared to others.\n",
        "\n",
        "🚫 Neutral sentiment is minimal across all apps, meaning users tend to leave clearly polarized feedback.\n",
        "\n",
        "📈 Apps like Calorie Counter and Bowmasters have strong positive-to-negative sentiment ratios, suggesting they are well-received."
      ],
      "metadata": {
        "id": "x-lUsV2mp1ck"
      }
    },
    {
      "cell_type": "markdown",
      "source": [
        "##### 3. Will the gained insights help creating a positive business impact?\n",
        "Are there any insights that lead to negative growth? Justify with specific reason."
      ],
      "metadata": {
        "id": "M7G43BXep1ck"
      }
    },
    {
      "cell_type": "markdown",
      "source": [
        "Yes, absolutely. Here's how:\n",
        "\n",
        "🎯 Product teams can focus on maintaining features that drive positive reviews in apps like Helix Jump and Duolingo.\n",
        "\n",
        "🛠️ Customer support or QA teams can investigate and fix issues in apps with higher negative sentiment (e.g., Angry Birds Classic).\n",
        "\n",
        "📣 Marketing teams can highlight top-rated apps to increase user trust and app downloads.\n",
        "\n",
        "📊 Sentiment insights help allocate resources for improvement and promotion effectively.\n",
        "\n",
        "Yes, one key negative insight is:\n",
        "\n",
        "⚠️ Angry Birds Classic has a significantly high count of negative reviews despite being among the top reviewed apps.\n",
        "\n",
        "- Justification: This suggests that while the app is popular, many users are dissatisfied, which can harm long-term brand value and user retention.\n",
        "\n",
        "- It may also reduce ratings and discourage new users from installing it, impacting business growth.\n",
        "\n"
      ],
      "metadata": {
        "id": "5wwDJXsLp1cl"
      }
    },
    {
      "cell_type": "markdown",
      "source": [
        "#### Chart - 13  WordCloud : Positive review (Univerient)"
      ],
      "metadata": {
        "id": "Ag9LCva-p1cl"
      }
    },
    {
      "cell_type": "code",
      "source": [
        "from wordcloud import WordCloud\n",
        "import matplotlib.pyplot as plt\n",
        "\n",
        "positive_reviews = ' '.join(data[data['Sentiment'] == 'positive']['Translated_Review'].dropna())\n",
        "\n",
        "wordcloud = WordCloud(width=800, height=400, background_color='white').generate(positive_reviews)\n",
        "plt.figure(figsize=(10, 5))\n",
        "plt.imshow(wordcloud, interpolation='bilinear')\n",
        "plt.axis('off')\n",
        "plt.title('Word Cloud of Positive Reviews')\n",
        "plt.show()\n"
      ],
      "metadata": {
        "id": "EUfxeq9-p1cl"
      },
      "execution_count": null,
      "outputs": []
    },
    {
      "cell_type": "markdown",
      "source": [
        "##### 1. Why did you pick the specific chart?"
      ],
      "metadata": {
        "id": "E6MkPsBcp1cl"
      }
    },
    {
      "cell_type": "markdown",
      "source": [
        "- A word cloud is ideal for visualizing text data—it helps quickly identify the most frequently used words in positive reviews.\n",
        "\n",
        "- It provides a visual summary of customer sentiment without reading individual reviews.\n",
        "\n",
        "- It’s an exploratory tool that’s useful early in analysis to spot recurring themes, feature mentions, or user emotions."
      ],
      "metadata": {
        "id": "V22bRsFWp1cl"
      }
    },
    {
      "cell_type": "markdown",
      "source": [
        "##### 2. What is/are the insight(s) found from the chart?"
      ],
      "metadata": {
        "id": "2cELzS2fp1cl"
      }
    },
    {
      "cell_type": "markdown",
      "source": [
        "From the word cloud:\n",
        "\n",
        "- Most frequent words: \"great,\" \"good,\" \"love,\" \"game,\" \"time,\" \"make,\" \"work,\" \"need\".\n",
        "\n",
        "- Users strongly appreciate the game aspect (\"game,\" \"play\") and performance (\"work,\" \"fast,\" \"easy\").\n",
        "\n",
        "- Emotionally positive words like \"love,\" \"great,\" \"awesome,\" \"thank\" show genuine customer satisfaction.\n",
        "\n",
        "- Some users also use suggestive terms like \"need,\" \"update,\" \"fix,\" \"add,\" \"better\", even in positive reviews—implying constructive feedback."
      ],
      "metadata": {
        "id": "ozQPc2_Ip1cl"
      }
    },
    {
      "cell_type": "markdown",
      "source": [
        "##### 3. Will the gained insights help creating a positive business impact?\n",
        "Are there any insights that lead to negative growth? Justify with specific reason."
      ],
      "metadata": {
        "id": "3MPXvC8up1cl"
      }
    },
    {
      "cell_type": "markdown",
      "source": [
        "Yes. Here’s how:\n",
        "\n",
        "- The frequent use of \"love,\" \"great,\" \"fun\" indicates strong user engagement and satisfaction, which is key to retention and organic growth.\n",
        "\n",
        "- Developers can continue investing in performance and game experience, as these are well appreciated.\n",
        "\n",
        "- Positive themes can be used in marketing campaigns—e.g., “Loved by thousands of users”, “Great performance,” etc.\n",
        "\n",
        "- Product managers can take note of repeated user wishes, like “update,” “need,” “fix,” and prioritize future improvements.\n",
        "\n",
        "**Are there any insights that lead to negative growth? Justify with specific reason.**\n",
        "\n",
        "Even in a positive word cloud, certain repeated suggestive words raise flags:\n",
        "\n",
        "- Words like \"need,\" \"update,\" \"fix,\" \"issue\" indicate users have expectations for improvements.\n",
        "\n",
        "- These aren’t complaints yet, but unattended needs could become negative sentiments over time.\n",
        "\n",
        "- If users keep requesting the same features or fixes and don’t see progress, it may lead to frustration or churn.\n",
        "\n",
        "So, while there’s no immediate negative growth signal, ignoring these hints may risk future dissatisfaction."
      ],
      "metadata": {
        "id": "GL8l1tdLp1cl"
      }
    },
    {
      "cell_type": "markdown",
      "source": [
        "#### Chart - 14 - Correlation Heatmap"
      ],
      "metadata": {
        "id": "NC_X3p0fY2L0"
      }
    },
    {
      "cell_type": "code",
      "source": [
        "# Correlation Heatmap visualization code\n",
        "# Select only numeric columns\n",
        "numeric_data = data.select_dtypes(include=['int64', 'float64'])\n",
        "\n",
        "# Compute the correlation matrix\n",
        "corr_matrix = numeric_data.corr()\n",
        "\n",
        "# Plot the heatmap\n",
        "plt.figure(figsize=(10, 6))\n",
        "sns.heatmap(corr_matrix, annot=True, cmap='coolwarm', fmt='.2f', linewidths=0.5)\n",
        "plt.title('Correlation Heatmap of Numeric Features')\n",
        "plt.show()"
      ],
      "metadata": {
        "id": "xyC9zolEZNRQ"
      },
      "execution_count": null,
      "outputs": []
    },
    {
      "cell_type": "markdown",
      "source": [
        "##### 1. Why did you pick the specific chart?"
      ],
      "metadata": {
        "id": "UV0SzAkaZNRQ"
      }
    },
    {
      "cell_type": "markdown",
      "source": [
        "The correlation heatmap is ideal for:\n",
        "\n",
        "- Identifying linear relationships between numeric variables.\n",
        "\n",
        "- Detecting strong positive or negative correlations that might affect business metrics (like rating, installs, or reviews).\n",
        "\n",
        "- Reducing redundancy in features during feature selection for modeling."
      ],
      "metadata": {
        "id": "DVPuT8LYZNRQ"
      }
    },
    {
      "cell_type": "markdown",
      "source": [
        "##### 2. What is/are the insight(s) found from the chart?"
      ],
      "metadata": {
        "id": "YPEH6qLeZNRQ"
      }
    },
    {
      "cell_type": "markdown",
      "source": [
        "Here are typical insights you may observe:\n",
        "\n",
        "**High positive correlation (values close to +1):**\n",
        "\n",
        "- Reviews vs. Installs: Users tend to leave reviews when the app is downloaded more.\n",
        "\n",
        "**High negative correlation (values close to -1):**\n",
        "\n",
        "- Price vs. Installs: Paid apps usually have fewer installs.\n",
        "\n",
        "**Moderate correlation:**\n",
        "\n",
        "- Sentiment_Polarity vs. Rating: Indicates if positive reviews align with high ratings.\n",
        "\n",
        "- Subjectivity vs. Polarity: May show how emotionally charged reviews affect tone.\n",
        "\n",
        "(These will vary based on what’s in your data.)"
      ],
      "metadata": {
        "id": "bfSqtnDqZNRR"
      }
    },
    {
      "cell_type": "markdown",
      "source": [
        "\n",
        "#### Chart - 15 - Pair Plot"
      ],
      "metadata": {
        "id": "q29F0dvdveiT"
      }
    },
    {
      "cell_type": "code",
      "source": [
        "# Pair Plot visualization code\n",
        "import seaborn as sns\n",
        "import matplotlib.pyplot as plt\n",
        "\n",
        "# Select the numeric columns\n",
        "numeric_cols = ['Sentiment_Polarity', 'Sentiment_Subjectivity']\n",
        "subset = data[numeric_cols].dropna()\n",
        "\n",
        "# Plot the pair plot\n",
        "sns.pairplot(subset, corner=True, diag_kind='kde', plot_kws={'alpha': 0.5})\n",
        "plt.suptitle('Pair Plot of Sentiment Metrics', y=1.02)\n",
        "plt.show()\n"
      ],
      "metadata": {
        "id": "o58-TEIhveiU"
      },
      "execution_count": null,
      "outputs": []
    },
    {
      "cell_type": "markdown",
      "source": [
        "##### 1. Why did you pick the specific chart?"
      ],
      "metadata": {
        "id": "EXh0U9oCveiU"
      }
    },
    {
      "cell_type": "markdown",
      "source": [
        "The pair plot is chosen because it visually displays pairwise relationships between numerical variables in a dataset. Since the dataset includes numerical sentiment metrics (Sentiment_Polarity, Sentiment_Subjectivity), this plot helps explore correlations, patterns, and distributions all at once. It's especially helpful to check:\n",
        "\n",
        "- Clustering or trends,\n",
        "\n",
        "- Strength of relationships, and\n",
        "\n",
        "- Potential anomalies.\n",
        "\n"
      ],
      "metadata": {
        "id": "eMmPjTByveiU"
      }
    },
    {
      "cell_type": "markdown",
      "source": [
        "##### 2. What is/are the insight(s) found from the chart?"
      ],
      "metadata": {
        "id": "22aHeOlLveiV"
      }
    },
    {
      "cell_type": "markdown",
      "source": [
        "- Most Sentiment_Polarity values cluster around 0, indicating many neutral or mixed reviews.\n",
        "\n",
        "- Sentiment_Subjectivity tends to concentrate near 0.5 and 1.0, suggesting reviews are either clearly subjective (personal opinion) or moderately subjective.\n",
        "\n",
        "- No strong linear relationship is visible between polarity and subjectivity — the plot appears scattered.\n",
        "\n",
        "- The diagonal KDE plots show that:\n",
        "\n",
        "   - Polarity is skewed toward the positive side.\n",
        "\n",
        "  - Subjectivity has two peaks, possibly indicating two common styles of reviews (factual vs opinionated)."
      ],
      "metadata": {
        "id": "uPQ8RGwHveiV"
      }
    },
    {
      "cell_type": "code",
      "source": [
        "data.columns"
      ],
      "metadata": {
        "id": "f0pJuVQz5rcu"
      },
      "execution_count": null,
      "outputs": []
    },
    {
      "cell_type": "markdown",
      "source": [
        "## **5. Solution to Business Objective**"
      ],
      "metadata": {
        "id": "JcMwzZxoAimU"
      }
    },
    {
      "cell_type": "markdown",
      "source": [
        "#### What do you suggest the client to achieve Business Objective ?\n",
        "Explain Briefly."
      ],
      "metadata": {
        "id": "8G2x9gOozGDZ"
      }
    },
    {
      "cell_type": "markdown",
      "source": [
        " 1. Enhance Customer Experience Using Sentiment Analysis\n",
        "Findings from data:\n",
        "\n",
        "- Your data contains sentiment labels (Positive, Neutral, Negative) and sentiment polarity/subjectivity scores.\n",
        "\n",
        "- Most users express strong positive or negative opinions.\n",
        "\n",
        "Suggestions:\n",
        "\n",
        "- Actively monitor negative reviews (using Sentiment_Numeric = -1 or low polarity scores).\n",
        "\n",
        "- Set up alerts for dips in sentiment polarity, especially after updates.\n",
        "\n",
        "- Add feedback forms in the app to capture issues before users go to the Play Store.\n",
        "\n",
        "2. Improve App Features Based on Word Cloud Insights\n",
        "Findings from Word Cloud:\n",
        "\n",
        "- Common positive keywords: “great”, “love”, “good”, “easy”, “game”, “need”, “update”\n",
        "\n",
        "Suggestions:\n",
        "\n",
        "- Highlight and retain these appreciated features.\n",
        "\n",
        "- Build marketing campaigns around these strengths (e.g., \"Enjoy our easy-to-use and fun app experience\").\n",
        "\n",
        "- Prioritize features that users repeatedly mention positively (like update, work, free).\n",
        "\n",
        "3. Use Subjectivity to Understand Opinion Intensity\n",
        "From Pair Plot and Heatmap:\n",
        "\n",
        "- Some users give highly subjective opinions (close to 1.0), while others are more objective.\n",
        "\n",
        "- No strong linear correlation between polarity and subjectivity — both provide unique insights.\n",
        "\n",
        "Suggestions:\n",
        "\n",
        "- Use high subjectivity reviews for user stories/testimonials.\n",
        "\n",
        "- Treat objective but negative reviews as serious product issues.\n",
        "\n",
        " 4. Targeted Improvements for Specific Apps\n",
        "Variable 'App':\n",
        "\n",
        "- You can group reviews by app and calculate average sentiment polarity per app.\n",
        "\n",
        "Suggestions:\n",
        "\n",
        "- Identify underperforming apps (with low average polarity).\n",
        "\n",
        "- Prioritize updates, bug fixes, and feature enhancements for these apps.\n",
        "\n",
        "- For top-performing apps, maintain feature consistency and stability.\n",
        "\n",
        "5. Increase Ratings Through Proactive User Engagement\n",
        "Suggestions:\n",
        "\n",
        "- Prompt users with positive polarity to rate the app after they leave a good review.\n",
        "\n",
        "- Use email or in-app messages to re-engage users with neutral/negative sentiment and offer help or incentives.\n",
        "\n",
        "| **Goal**                  | **Actionable Recommendation**                                      |\n",
        "| ------------------------- | ------------------------------------------------------------------ |\n",
        "| Improve User Satisfaction | Address negative reviews; fix app-specific bugs                    |\n",
        "| Increase Engagement       | Promote top-rated features, build on what users love               |\n",
        "| Enhance Ratings           | Encourage ratings from users with high polarity/positive sentiment |\n",
        "| Reduce Churn              | Use feedback loops to respond quickly to negative sentiment        |\n",
        "| Better App Prioritization | Use average sentiment by 'App' to decide which apps need attention |"
      ],
      "metadata": {
        "id": "pASKb0qOza21"
      }
    },
    {
      "cell_type": "markdown",
      "source": [
        "# **Conclusion**"
      ],
      "metadata": {
        "id": "gCX9965dhzqZ"
      }
    },
    {
      "cell_type": "markdown",
      "source": [
        "This project provided a detailed analysis of user reviews from the Google Play Store, focusing on key sentiment metrics to understand user satisfaction and identify areas for improvement.\n",
        "\n",
        "🔍 Key Takeaways:\n",
        "- Sentiment Distribution:\n",
        "\n",
        "    - Most reviews are positive, indicating general user satisfaction.\n",
        "\n",
        "    - A significant number of neutral and negative reviews highlight opportunities for improvement.\n",
        "\n",
        "- Sentiment Polarity and Subjectivity:\n",
        "\n",
        "    - Sentiment Polarity ranged from -1 (very negative) to +1 (very positive), with a spike around 0, showing mixed emotions.\n",
        "\n",
        "    - Subjectivity Scores revealed that many reviews are personal opinions rather than objective feedback, which helps in understanding user perception.\n",
        "\n",
        "- Word Cloud Insights:\n",
        "\n",
        "    - Common positive keywords such as “great”, “good”, “love”, “easy”, and “update” emphasize what users value most.\n",
        "\n",
        "    - These insights can guide feature prioritization and marketing messaging.\n",
        "\n",
        "- Correlation and Pair Plots:\n",
        "\n",
        "    - No strong correlation between polarity and subjectivity, showing that both metrics offer distinct insights.\n",
        "\n",
        "    - The pair plot suggests a broad distribution of review types, emphasizing the need for customized responses.\n",
        "\n",
        "- App-Level Sentiment Tracking:\n",
        "\n",
        "    - By analyzing sentiment per app, stakeholders can pinpoint underperforming apps and allocate resources efficiently.\n",
        "\n",
        "The analysis provides a strong foundation for data-driven decision-making in app development, customer support, and marketing strategies. By leveraging sentiment analysis, the business can:\n",
        "\n",
        "- Enhance customer satisfaction,\n",
        "\n",
        "- Reduce churn through proactive support,\n",
        "\n",
        "- Improve app store ratings,\n",
        "\n",
        "- And ultimately drive positive business impact.\n",
        "\n",
        "This project not only surfaces valuable user insights but also lays the groundwork for building a feedback loop between users and developers, ensuring continuous improvement and stronger user engagement.\n",
        "\n",
        "\n"
      ],
      "metadata": {
        "id": "Fjb1IsQkh3yE"
      }
    },
    {
      "cell_type": "markdown",
      "source": [
        "### ***Hurrah! You have successfully completed your EDA Capstone Project !!!***"
      ],
      "metadata": {
        "id": "gIfDvo9L0UH2"
      }
    }
  ]
}